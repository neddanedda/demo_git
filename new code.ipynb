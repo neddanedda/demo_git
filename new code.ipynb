{
 "cells": [
  {
   "cell_type": "markdown",
   "id": "fa7bd47a-6acf-4d8b-ace1-0d66e419eeb4",
   "metadata": {},
   "source": [
    "Something new"
   ]
  },
  {
   "cell_type": "code",
   "execution_count": null,
   "id": "b89ac1ba-5a36-4462-b745-472fe6c9fe90",
   "metadata": {},
   "outputs": [],
   "source": []
  }
 ],
 "metadata": {
  "kernelspec": {
   "display_name": "Python 3 (ipykernel)",
   "language": "python",
   "name": "python3"
  },
  "language_info": {
   "codemirror_mode": {
    "name": "ipython",
    "version": 3
   },
   "file_extension": ".py",
   "mimetype": "text/x-python",
   "name": "python",
   "nbconvert_exporter": "python",
   "pygments_lexer": "ipython3",
   "version": "3.12.4"
  }
 },
 "nbformat": 4,
 "nbformat_minor": 5
}
